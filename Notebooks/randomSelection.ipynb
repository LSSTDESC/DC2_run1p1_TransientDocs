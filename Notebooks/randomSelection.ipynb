{
 "cells": [
  {
   "cell_type": "code",
   "execution_count": 5,
   "metadata": {
    "collapsed": true
   },
   "outputs": [],
   "source": [
    "import numpy as np"
   ]
  },
  {
   "cell_type": "code",
   "execution_count": 1,
   "metadata": {
    "collapsed": true
   },
   "outputs": [],
   "source": [
    "import pandas as pd"
   ]
  },
  {
   "cell_type": "code",
   "execution_count": 2,
   "metadata": {
    "collapsed": true
   },
   "outputs": [],
   "source": [
    "sntable = pd.read_csv('SNWithHost')"
   ]
  },
  {
   "cell_type": "code",
   "execution_count": 3,
   "metadata": {
    "collapsed": false
   },
   "outputs": [
    {
     "data": {
      "text/html": [
       "<div>\n",
       "<table border=\"1\" class=\"dataframe\">\n",
       "  <thead>\n",
       "    <tr style=\"text-align: right;\">\n",
       "      <th></th>\n",
       "      <th>galaxy_id</th>\n",
       "      <th>c</th>\n",
       "      <th>mB</th>\n",
       "      <th>x0</th>\n",
       "      <th>x1</th>\n",
       "      <th>t0</th>\n",
       "      <th>zbin</th>\n",
       "      <th>diskMassStellar</th>\n",
       "      <th>morphology/diskMinorAxisArcsec</th>\n",
       "      <th>morphology/spheroidMinorAxisArcsec</th>\n",
       "      <th>totalMassStellar</th>\n",
       "      <th>raHost</th>\n",
       "      <th>decHost</th>\n",
       "      <th>redshift</th>\n",
       "    </tr>\n",
       "  </thead>\n",
       "  <tbody>\n",
       "    <tr>\n",
       "      <th>0</th>\n",
       "      <td>5261490</td>\n",
       "      <td>0.132765</td>\n",
       "      <td>-18.740207</td>\n",
       "      <td>4.940208e+11</td>\n",
       "      <td>0.998184</td>\n",
       "      <td>62164.398519</td>\n",
       "      <td>82</td>\n",
       "      <td>6.874167e+05</td>\n",
       "      <td>0.085198</td>\n",
       "      <td>0.595987</td>\n",
       "      <td>5.608042e+10</td>\n",
       "      <td>56.040022</td>\n",
       "      <td>-29.063145</td>\n",
       "      <td>0.829574</td>\n",
       "    </tr>\n",
       "    <tr>\n",
       "      <th>1</th>\n",
       "      <td>11685520</td>\n",
       "      <td>0.094194</td>\n",
       "      <td>-18.863014</td>\n",
       "      <td>5.536334e+11</td>\n",
       "      <td>0.893994</td>\n",
       "      <td>63191.790821</td>\n",
       "      <td>58</td>\n",
       "      <td>1.337334e-05</td>\n",
       "      <td>0.044646</td>\n",
       "      <td>0.850887</td>\n",
       "      <td>3.438695e+11</td>\n",
       "      <td>56.921574</td>\n",
       "      <td>-28.539053</td>\n",
       "      <td>0.583487</td>\n",
       "    </tr>\n",
       "    <tr>\n",
       "      <th>2</th>\n",
       "      <td>8966343</td>\n",
       "      <td>0.055517</td>\n",
       "      <td>-19.144506</td>\n",
       "      <td>7.181698e+11</td>\n",
       "      <td>0.720432</td>\n",
       "      <td>61662.587871</td>\n",
       "      <td>73</td>\n",
       "      <td>8.625564e+09</td>\n",
       "      <td>0.278828</td>\n",
       "      <td>0.335268</td>\n",
       "      <td>1.437973e+10</td>\n",
       "      <td>55.891231</td>\n",
       "      <td>-29.581480</td>\n",
       "      <td>0.733650</td>\n",
       "    </tr>\n",
       "    <tr>\n",
       "      <th>3</th>\n",
       "      <td>14192637</td>\n",
       "      <td>0.034400</td>\n",
       "      <td>-18.687003</td>\n",
       "      <td>4.749097e+11</td>\n",
       "      <td>-1.412840</td>\n",
       "      <td>60398.849066</td>\n",
       "      <td>37</td>\n",
       "      <td>3.943636e+07</td>\n",
       "      <td>0.313351</td>\n",
       "      <td>0.965742</td>\n",
       "      <td>3.950259e+10</td>\n",
       "      <td>54.159748</td>\n",
       "      <td>-27.521677</td>\n",
       "      <td>0.375087</td>\n",
       "    </tr>\n",
       "    <tr>\n",
       "      <th>4</th>\n",
       "      <td>8864672</td>\n",
       "      <td>0.071826</td>\n",
       "      <td>-19.102017</td>\n",
       "      <td>6.923844e+11</td>\n",
       "      <td>0.008971</td>\n",
       "      <td>61867.792942</td>\n",
       "      <td>51</td>\n",
       "      <td>9.159462e+07</td>\n",
       "      <td>0.477250</td>\n",
       "      <td>0.688218</td>\n",
       "      <td>1.215990e+10</td>\n",
       "      <td>56.397235</td>\n",
       "      <td>-29.970128</td>\n",
       "      <td>0.512370</td>\n",
       "    </tr>\n",
       "  </tbody>\n",
       "</table>\n",
       "</div>"
      ],
      "text/plain": [
       "   galaxy_id         c         mB            x0        x1            t0  zbin  \\\n",
       "0    5261490  0.132765 -18.740207  4.940208e+11  0.998184  62164.398519    82   \n",
       "1   11685520  0.094194 -18.863014  5.536334e+11  0.893994  63191.790821    58   \n",
       "2    8966343  0.055517 -19.144506  7.181698e+11  0.720432  61662.587871    73   \n",
       "3   14192637  0.034400 -18.687003  4.749097e+11 -1.412840  60398.849066    37   \n",
       "4    8864672  0.071826 -19.102017  6.923844e+11  0.008971  61867.792942    51   \n",
       "\n",
       "   diskMassStellar  morphology/diskMinorAxisArcsec  \\\n",
       "0     6.874167e+05                        0.085198   \n",
       "1     1.337334e-05                        0.044646   \n",
       "2     8.625564e+09                        0.278828   \n",
       "3     3.943636e+07                        0.313351   \n",
       "4     9.159462e+07                        0.477250   \n",
       "\n",
       "   morphology/spheroidMinorAxisArcsec  totalMassStellar     raHost    decHost  \\\n",
       "0                            0.595987      5.608042e+10  56.040022 -29.063145   \n",
       "1                            0.850887      3.438695e+11  56.921574 -28.539053   \n",
       "2                            0.335268      1.437973e+10  55.891231 -29.581480   \n",
       "3                            0.965742      3.950259e+10  54.159748 -27.521677   \n",
       "4                            0.688218      1.215990e+10  56.397235 -29.970128   \n",
       "\n",
       "   redshift  \n",
       "0  0.829574  \n",
       "1  0.583487  \n",
       "2  0.733650  \n",
       "3  0.375087  \n",
       "4  0.512370  "
      ]
     },
     "execution_count": 3,
     "metadata": {},
     "output_type": "execute_result"
    }
   ],
   "source": [
    "sntable.head()"
   ]
  },
  {
   "cell_type": "code",
   "execution_count": 15,
   "metadata": {
    "collapsed": false
   },
   "outputs": [],
   "source": [
    "sntable['rand'] = np.random.uniform(low=0., high=1, size=len(sntable))"
   ]
  },
  {
   "cell_type": "code",
   "execution_count": 16,
   "metadata": {
    "collapsed": true
   },
   "outputs": [],
   "source": [
    "sntable['sm_ratio'] = sntable.diskMassStellar / sntable.totalMassStellar"
   ]
  },
  {
   "cell_type": "code",
   "execution_count": 17,
   "metadata": {
    "collapsed": false
   },
   "outputs": [
    {
     "data": {
      "text/plain": [
       "count    24316.000000\n",
       "mean         0.498472\n",
       "std          0.288870\n",
       "min          0.000023\n",
       "25%          0.249411\n",
       "50%          0.494813\n",
       "75%          0.750908\n",
       "max          0.999967\n",
       "Name: rand, dtype: float64"
      ]
     },
     "execution_count": 17,
     "metadata": {},
     "output_type": "execute_result"
    }
   ],
   "source": [
    "sntable.rand.describe()"
   ]
  },
  {
   "cell_type": "code",
   "execution_count": 20,
   "metadata": {
    "collapsed": false
   },
   "outputs": [
    {
     "data": {
      "text/plain": [
       "0.36733015298568844"
      ]
     },
     "execution_count": 20,
     "metadata": {},
     "output_type": "execute_result"
    }
   ],
   "source": [
    "sntable.query('sm_ratio > rand').c.size / np.float(sntable.c.size)"
   ]
  },
  {
   "cell_type": "code",
   "execution_count": null,
   "metadata": {
    "collapsed": true
   },
   "outputs": [],
   "source": []
  }
 ],
 "metadata": {
  "anaconda-cloud": {},
  "kernelspec": {
   "display_name": "Python [conda root]",
   "language": "python",
   "name": "conda-root-py"
  },
  "language_info": {
   "codemirror_mode": {
    "name": "ipython",
    "version": 2
   },
   "file_extension": ".py",
   "mimetype": "text/x-python",
   "name": "python",
   "nbconvert_exporter": "python",
   "pygments_lexer": "ipython2",
   "version": "2.7.12"
  }
 },
 "nbformat": 4,
 "nbformat_minor": 1
}
